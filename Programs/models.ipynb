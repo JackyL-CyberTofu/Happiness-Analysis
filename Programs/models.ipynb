{
 "cells": [
  {
   "cell_type": "code",
   "execution_count": 1,
   "metadata": {
    "ExecuteTime": {
     "end_time": "2023-08-04T06:09:40.108126300Z",
     "start_time": "2023-08-04T06:09:40.096127800Z"
    }
   },
   "outputs": [],
   "source": [
    "import pandas as pd\n",
    "from sklearn.ensemble import RandomForestRegressor, RandomForestClassifier\n",
    "from sklearn.model_selection import train_test_split\n",
    "from sklearn.metrics import mean_squared_error, accuracy_score\n",
    "\n",
    "data = pd.read_csv('../Data/cleaned_data.csv')\n"
   ]
  },
  {
   "cell_type": "code",
   "execution_count": 2,
   "metadata": {
    "ExecuteTime": {
     "end_time": "2023-08-04T06:09:40.141126800Z",
     "start_time": "2023-08-04T06:09:40.110125200Z"
    }
   },
   "outputs": [],
   "source": [
    "features = [\n",
    "    'Log GDP per capita', 'Social support', 'Healthy life expectancy at birth',\n",
    "    'Freedom to make life choices', 'Generosity', 'Perceptions of corruption',\n",
    "    'Positive affect', 'Negative affect'\n",
    "]"
   ]
  },
  {
   "cell_type": "code",
   "execution_count": 3,
   "metadata": {
    "ExecuteTime": {
     "end_time": "2023-08-04T06:15:06.549142200Z",
     "start_time": "2023-08-04T06:15:05.798136900Z"
    }
   },
   "outputs": [
    {
     "name": "stdout",
     "output_type": "stream",
     "text": [
      "0.8122902278114246\n",
      "0.9742777213822137\n"
     ]
    }
   ],
   "source": [
    "X = data[features]\n",
    "y = data['Happiness Score']\n",
    "\n",
    "# Splitting the data into training and testing sets\n",
    "X_train, X_test, y_train, y_test = train_test_split(X, y)\n",
    "\n",
    "# Train a Random Forest Regressor for \"Happiness Score\"\n",
    "model = RandomForestRegressor(n_estimators=125, max_depth=50, min_samples_leaf=1)\n",
    "model.fit(X_train, y_train)\n",
    "\n",
    "print(model.score(X_test, y_test))\n",
    "print(model.score(X_train, y_train))"
   ]
  },
  {
   "cell_type": "code",
   "execution_count": 4,
   "metadata": {
    "ExecuteTime": {
     "end_time": "2023-08-04T06:15:08.453379400Z",
     "start_time": "2023-08-04T06:15:08.428380200Z"
    }
   },
   "outputs": [
    {
     "data": {
      "text/html": [
       "<div>\n",
       "<style scoped>\n",
       "    .dataframe tbody tr th:only-of-type {\n",
       "        vertical-align: middle;\n",
       "    }\n",
       "\n",
       "    .dataframe tbody tr th {\n",
       "        vertical-align: top;\n",
       "    }\n",
       "\n",
       "    .dataframe thead th {\n",
       "        text-align: right;\n",
       "    }\n",
       "</style>\n",
       "<table border=\"1\" class=\"dataframe\">\n",
       "  <thead>\n",
       "    <tr style=\"text-align: right;\">\n",
       "      <th></th>\n",
       "      <th>Feature</th>\n",
       "      <th>Importance</th>\n",
       "    </tr>\n",
       "  </thead>\n",
       "  <tbody>\n",
       "    <tr>\n",
       "      <th>0</th>\n",
       "      <td>Log GDP per capita</td>\n",
       "      <td>0.524854</td>\n",
       "    </tr>\n",
       "    <tr>\n",
       "      <th>6</th>\n",
       "      <td>Positive affect</td>\n",
       "      <td>0.229578</td>\n",
       "    </tr>\n",
       "    <tr>\n",
       "      <th>1</th>\n",
       "      <td>Social support</td>\n",
       "      <td>0.056835</td>\n",
       "    </tr>\n",
       "    <tr>\n",
       "      <th>3</th>\n",
       "      <td>Freedom to make life choices</td>\n",
       "      <td>0.046321</td>\n",
       "    </tr>\n",
       "    <tr>\n",
       "      <th>4</th>\n",
       "      <td>Generosity</td>\n",
       "      <td>0.046287</td>\n",
       "    </tr>\n",
       "    <tr>\n",
       "      <th>2</th>\n",
       "      <td>Healthy life expectancy at birth</td>\n",
       "      <td>0.034430</td>\n",
       "    </tr>\n",
       "    <tr>\n",
       "      <th>5</th>\n",
       "      <td>Perceptions of corruption</td>\n",
       "      <td>0.033884</td>\n",
       "    </tr>\n",
       "    <tr>\n",
       "      <th>7</th>\n",
       "      <td>Negative affect</td>\n",
       "      <td>0.027810</td>\n",
       "    </tr>\n",
       "  </tbody>\n",
       "</table>\n",
       "</div>"
      ],
      "text/plain": [
       "                            Feature  Importance\n",
       "0                Log GDP per capita    0.524854\n",
       "6                   Positive affect    0.229578\n",
       "1                    Social support    0.056835\n",
       "3      Freedom to make life choices    0.046321\n",
       "4                        Generosity    0.046287\n",
       "2  Healthy life expectancy at birth    0.034430\n",
       "5         Perceptions of corruption    0.033884\n",
       "7                   Negative affect    0.027810"
      ]
     },
     "execution_count": 4,
     "metadata": {},
     "output_type": "execute_result"
    }
   ],
   "source": [
    "pd.DataFrame({'Feature': features,'Importance': model.feature_importances_}).sort_values(by='Importance', ascending=False)"
   ]
  },
  {
   "cell_type": "code",
   "execution_count": 5,
   "metadata": {
    "ExecuteTime": {
     "end_time": "2023-08-04T06:14:57.191006800Z",
     "start_time": "2023-08-04T06:14:56.330009500Z"
    }
   },
   "outputs": [
    {
     "name": "stdout",
     "output_type": "stream",
     "text": [
      "0.636684255250803\n",
      "0.9528169073254453\n"
     ]
    }
   ],
   "source": [
    "X = data[features]\n",
    "y = data['Death rate per 100 000 population']\n",
    "\n",
    "# Splitting the data into training and testing sets\n",
    "X_train, X_test, y_train, y_test = train_test_split(X, y)\n",
    "\n",
    "# Train a Random Forest Regressor for \"Happiness Score\"\n",
    "model = RandomForestRegressor(n_estimators=125, max_depth=50, min_samples_leaf=1)\n",
    "model.fit(X_train, y_train)\n",
    "\n",
    "print(model.score(X_test, y_test))\n",
    "print(model.score(X_train, y_train))"
   ]
  },
  {
   "cell_type": "code",
   "execution_count": 6,
   "metadata": {
    "ExecuteTime": {
     "end_time": "2023-08-04T06:15:11.081294700Z",
     "start_time": "2023-08-04T06:15:11.051293200Z"
    }
   },
   "outputs": [
    {
     "data": {
      "text/html": [
       "<div>\n",
       "<style scoped>\n",
       "    .dataframe tbody tr th:only-of-type {\n",
       "        vertical-align: middle;\n",
       "    }\n",
       "\n",
       "    .dataframe tbody tr th {\n",
       "        vertical-align: top;\n",
       "    }\n",
       "\n",
       "    .dataframe thead th {\n",
       "        text-align: right;\n",
       "    }\n",
       "</style>\n",
       "<table border=\"1\" class=\"dataframe\">\n",
       "  <thead>\n",
       "    <tr style=\"text-align: right;\">\n",
       "      <th></th>\n",
       "      <th>Feature</th>\n",
       "      <th>Importance</th>\n",
       "    </tr>\n",
       "  </thead>\n",
       "  <tbody>\n",
       "    <tr>\n",
       "      <th>0</th>\n",
       "      <td>Log GDP per capita</td>\n",
       "      <td>0.267664</td>\n",
       "    </tr>\n",
       "    <tr>\n",
       "      <th>6</th>\n",
       "      <td>Positive affect</td>\n",
       "      <td>0.169364</td>\n",
       "    </tr>\n",
       "    <tr>\n",
       "      <th>2</th>\n",
       "      <td>Healthy life expectancy at birth</td>\n",
       "      <td>0.162557</td>\n",
       "    </tr>\n",
       "    <tr>\n",
       "      <th>7</th>\n",
       "      <td>Negative affect</td>\n",
       "      <td>0.109730</td>\n",
       "    </tr>\n",
       "    <tr>\n",
       "      <th>5</th>\n",
       "      <td>Perceptions of corruption</td>\n",
       "      <td>0.097882</td>\n",
       "    </tr>\n",
       "    <tr>\n",
       "      <th>4</th>\n",
       "      <td>Generosity</td>\n",
       "      <td>0.066710</td>\n",
       "    </tr>\n",
       "    <tr>\n",
       "      <th>3</th>\n",
       "      <td>Freedom to make life choices</td>\n",
       "      <td>0.064205</td>\n",
       "    </tr>\n",
       "    <tr>\n",
       "      <th>1</th>\n",
       "      <td>Social support</td>\n",
       "      <td>0.061888</td>\n",
       "    </tr>\n",
       "  </tbody>\n",
       "</table>\n",
       "</div>"
      ],
      "text/plain": [
       "                            Feature  Importance\n",
       "0                Log GDP per capita    0.267664\n",
       "6                   Positive affect    0.169364\n",
       "2  Healthy life expectancy at birth    0.162557\n",
       "7                   Negative affect    0.109730\n",
       "5         Perceptions of corruption    0.097882\n",
       "4                        Generosity    0.066710\n",
       "3      Freedom to make life choices    0.064205\n",
       "1                    Social support    0.061888"
      ]
     },
     "execution_count": 6,
     "metadata": {},
     "output_type": "execute_result"
    }
   ],
   "source": [
    "pd.DataFrame({'Feature': features,'Importance': model.feature_importances_}).sort_values(by='Importance', ascending=False)"
   ]
  },
  {
   "cell_type": "code",
   "execution_count": 7,
   "metadata": {
    "ExecuteTime": {
     "end_time": "2023-08-04T06:12:44.975097800Z",
     "start_time": "2023-08-04T06:12:44.663025900Z"
    }
   },
   "outputs": [
    {
     "name": "stdout",
     "output_type": "stream",
     "text": [
      "0.8735177865612648\n",
      "0.9682539682539683\n"
     ]
    }
   ],
   "source": [
    "X = data[features]\n",
    "y = data['Region Name']\n",
    "\n",
    "# Splitting the data into training and testing sets\n",
    "X_train, X_test, y_train, y_test = train_test_split(X, y)\n",
    "\n",
    "# Train a Random Forest Regressor for \"Happiness Score\"\n",
    "model = RandomForestClassifier(n_estimators=125, max_depth=50)\n",
    "model.fit(X_train, y_train)\n",
    "\n",
    "print(model.score(X_test, y_test))\n",
    "print(model.score(X_train, y_train))"
   ]
  },
  {
   "cell_type": "code",
   "execution_count": 8,
   "metadata": {
    "ExecuteTime": {
     "end_time": "2023-08-04T06:12:50.481331800Z",
     "start_time": "2023-08-04T06:12:50.452215800Z"
    }
   },
   "outputs": [
    {
     "data": {
      "text/html": [
       "<div>\n",
       "<style scoped>\n",
       "    .dataframe tbody tr th:only-of-type {\n",
       "        vertical-align: middle;\n",
       "    }\n",
       "\n",
       "    .dataframe tbody tr th {\n",
       "        vertical-align: top;\n",
       "    }\n",
       "\n",
       "    .dataframe thead th {\n",
       "        text-align: right;\n",
       "    }\n",
       "</style>\n",
       "<table border=\"1\" class=\"dataframe\">\n",
       "  <thead>\n",
       "    <tr style=\"text-align: right;\">\n",
       "      <th></th>\n",
       "      <th>Feature</th>\n",
       "      <th>Importance</th>\n",
       "    </tr>\n",
       "  </thead>\n",
       "  <tbody>\n",
       "    <tr>\n",
       "      <th>6</th>\n",
       "      <td>Positive affect</td>\n",
       "      <td>0.192805</td>\n",
       "    </tr>\n",
       "    <tr>\n",
       "      <th>0</th>\n",
       "      <td>Log GDP per capita</td>\n",
       "      <td>0.182013</td>\n",
       "    </tr>\n",
       "    <tr>\n",
       "      <th>2</th>\n",
       "      <td>Healthy life expectancy at birth</td>\n",
       "      <td>0.127602</td>\n",
       "    </tr>\n",
       "    <tr>\n",
       "      <th>5</th>\n",
       "      <td>Perceptions of corruption</td>\n",
       "      <td>0.119647</td>\n",
       "    </tr>\n",
       "    <tr>\n",
       "      <th>7</th>\n",
       "      <td>Negative affect</td>\n",
       "      <td>0.113400</td>\n",
       "    </tr>\n",
       "    <tr>\n",
       "      <th>1</th>\n",
       "      <td>Social support</td>\n",
       "      <td>0.100627</td>\n",
       "    </tr>\n",
       "    <tr>\n",
       "      <th>3</th>\n",
       "      <td>Freedom to make life choices</td>\n",
       "      <td>0.082103</td>\n",
       "    </tr>\n",
       "    <tr>\n",
       "      <th>4</th>\n",
       "      <td>Generosity</td>\n",
       "      <td>0.081804</td>\n",
       "    </tr>\n",
       "  </tbody>\n",
       "</table>\n",
       "</div>"
      ],
      "text/plain": [
       "                            Feature  Importance\n",
       "6                   Positive affect    0.192805\n",
       "0                Log GDP per capita    0.182013\n",
       "2  Healthy life expectancy at birth    0.127602\n",
       "5         Perceptions of corruption    0.119647\n",
       "7                   Negative affect    0.113400\n",
       "1                    Social support    0.100627\n",
       "3      Freedom to make life choices    0.082103\n",
       "4                        Generosity    0.081804"
      ]
     },
     "execution_count": 8,
     "metadata": {},
     "output_type": "execute_result"
    }
   ],
   "source": [
    "pd.DataFrame({'Feature': features,'Importance': model.feature_importances_}).sort_values(by='Importance', ascending=False)"
   ]
  }
 ],
 "metadata": {
  "kernelspec": {
   "display_name": "Python 3",
   "language": "python",
   "name": "python3"
  },
  "language_info": {
   "codemirror_mode": {
    "name": "ipython",
    "version": 3
   },
   "file_extension": ".py",
   "mimetype": "text/x-python",
   "name": "python",
   "nbconvert_exporter": "python",
   "pygments_lexer": "ipython3",
   "version": "3.8.8"
  }
 },
 "nbformat": 4,
 "nbformat_minor": 1
}
