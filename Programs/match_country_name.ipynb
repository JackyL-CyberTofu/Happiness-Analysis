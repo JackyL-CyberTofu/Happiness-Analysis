{
 "cells": [
  {
   "cell_type": "code",
   "execution_count": 22,
   "metadata": {
    "collapsed": true,
    "ExecuteTime": {
     "end_time": "2023-07-28T20:28:52.496885200Z",
     "start_time": "2023-07-28T20:28:52.479883700Z"
    }
   },
   "outputs": [],
   "source": [
    "import pandas as pd\n",
    "import numpy as np"
   ]
  },
  {
   "cell_type": "code",
   "execution_count": 23,
   "outputs": [],
   "source": [
    "WHR = pd.read_csv('../Data/WHR2023.csv')\n",
    "WHO = pd.read_csv('../Data/WHOMortalityData.csv')"
   ],
   "metadata": {
    "collapsed": false,
    "ExecuteTime": {
     "end_time": "2023-07-28T20:28:52.881891300Z",
     "start_time": "2023-07-28T20:28:52.498887Z"
    }
   }
  },
  {
   "cell_type": "code",
   "execution_count": 24,
   "outputs": [],
   "source": [
    "def find_difference(WHR, WHO):\n",
    "    whr_countries = set(WHR['Country name'].unique())\n",
    "    who_countries = set(WHO['Country Name'].unique())\n",
    "    matching_whr = {whr for whr in whr_countries for who in who_countries if whr.startswith(who)}\n",
    "    matching_who = {who for who in who_countries for whr in whr_countries if who.startswith(whr)}\n",
    "    whr_not_matched = pd.DataFrame({'Country Name': list(whr_countries - matching_whr)})\n",
    "    who_not_matched = pd.DataFrame({'Country Name': list(who_countries - matching_who)})\n",
    "    return whr_not_matched, who_not_matched\n",
    "\n",
    "def match_names(WHR, WHO):\n",
    "    whr_countries = WHR['Country name'].unique()\n",
    "    map_to_whr = WHO['Country Name'].apply(lambda x: next((y for y in whr_countries if x.startswith(y)), x))\n",
    "    WHO['Country Name'] = map_to_whr\n",
    "    return WHO\n",
    "\n",
    "WHO = match_names(WHR, WHO)"
   ],
   "metadata": {
    "collapsed": false,
    "ExecuteTime": {
     "end_time": "2023-07-28T20:28:56.383884100Z",
     "start_time": "2023-07-28T20:28:52.881891300Z"
    }
   }
  },
  {
   "cell_type": "code",
   "execution_count": 25,
   "outputs": [
    {
     "data": {
      "text/plain": "                 Country Name\n0                 Afghanistan\n1                  Bangladesh\n2                    Djibouti\n3                     Bolivia\n4                       Gabon\n..                        ...\n64               Burkina Faso\n65                   Cambodia\n66                 Mozambique\n67  Hong Kong S.A.R. of China\n68         State of Palestine\n\n[69 rows x 1 columns]",
      "text/html": "<div>\n<style scoped>\n    .dataframe tbody tr th:only-of-type {\n        vertical-align: middle;\n    }\n\n    .dataframe tbody tr th {\n        vertical-align: top;\n    }\n\n    .dataframe thead th {\n        text-align: right;\n    }\n</style>\n<table border=\"1\" class=\"dataframe\">\n  <thead>\n    <tr style=\"text-align: right;\">\n      <th></th>\n      <th>Country Name</th>\n    </tr>\n  </thead>\n  <tbody>\n    <tr>\n      <th>0</th>\n      <td>Afghanistan</td>\n    </tr>\n    <tr>\n      <th>1</th>\n      <td>Bangladesh</td>\n    </tr>\n    <tr>\n      <th>2</th>\n      <td>Djibouti</td>\n    </tr>\n    <tr>\n      <th>3</th>\n      <td>Bolivia</td>\n    </tr>\n    <tr>\n      <th>4</th>\n      <td>Gabon</td>\n    </tr>\n    <tr>\n      <th>...</th>\n      <td>...</td>\n    </tr>\n    <tr>\n      <th>64</th>\n      <td>Burkina Faso</td>\n    </tr>\n    <tr>\n      <th>65</th>\n      <td>Cambodia</td>\n    </tr>\n    <tr>\n      <th>66</th>\n      <td>Mozambique</td>\n    </tr>\n    <tr>\n      <th>67</th>\n      <td>Hong Kong S.A.R. of China</td>\n    </tr>\n    <tr>\n      <th>68</th>\n      <td>State of Palestine</td>\n    </tr>\n  </tbody>\n</table>\n<p>69 rows × 1 columns</p>\n</div>"
     },
     "execution_count": 25,
     "metadata": {},
     "output_type": "execute_result"
    }
   ],
   "source": [
    "whr_not_matched, who_not_matched = find_difference(WHR, WHO)\n",
    "whr_not_matched"
   ],
   "metadata": {
    "collapsed": false,
    "ExecuteTime": {
     "end_time": "2023-07-28T20:28:56.447883200Z",
     "start_time": "2023-07-28T20:28:56.409885300Z"
    }
   }
  },
  {
   "cell_type": "code",
   "execution_count": 26,
   "outputs": [
    {
     "data": {
      "text/plain": "                        Country Name\n0                            T?rkiye\n1                           Barbados\n2                           Dominica\n3              Saint Kitts and Nevis\n4                        Puerto Rico\n5                         Cabo Verde\n6                               Fiji\n7   Saint Vincent and the Grenadines\n8                Republic of Moldova\n9                         Martinique\n10                       Saint Lucia\n11                           Grenada\n12               Antigua and Barbuda\n13                        Guadeloupe\n14                           R?union\n15                 Brunei Darussalam\n16                        Seychelles\n17                     French Guiana\n18                           Mayotte\n19                 Republic of Korea\n20             Sao Tome and Principe\n21                           Bahamas",
      "text/html": "<div>\n<style scoped>\n    .dataframe tbody tr th:only-of-type {\n        vertical-align: middle;\n    }\n\n    .dataframe tbody tr th {\n        vertical-align: top;\n    }\n\n    .dataframe thead th {\n        text-align: right;\n    }\n</style>\n<table border=\"1\" class=\"dataframe\">\n  <thead>\n    <tr style=\"text-align: right;\">\n      <th></th>\n      <th>Country Name</th>\n    </tr>\n  </thead>\n  <tbody>\n    <tr>\n      <th>0</th>\n      <td>T?rkiye</td>\n    </tr>\n    <tr>\n      <th>1</th>\n      <td>Barbados</td>\n    </tr>\n    <tr>\n      <th>2</th>\n      <td>Dominica</td>\n    </tr>\n    <tr>\n      <th>3</th>\n      <td>Saint Kitts and Nevis</td>\n    </tr>\n    <tr>\n      <th>4</th>\n      <td>Puerto Rico</td>\n    </tr>\n    <tr>\n      <th>5</th>\n      <td>Cabo Verde</td>\n    </tr>\n    <tr>\n      <th>6</th>\n      <td>Fiji</td>\n    </tr>\n    <tr>\n      <th>7</th>\n      <td>Saint Vincent and the Grenadines</td>\n    </tr>\n    <tr>\n      <th>8</th>\n      <td>Republic of Moldova</td>\n    </tr>\n    <tr>\n      <th>9</th>\n      <td>Martinique</td>\n    </tr>\n    <tr>\n      <th>10</th>\n      <td>Saint Lucia</td>\n    </tr>\n    <tr>\n      <th>11</th>\n      <td>Grenada</td>\n    </tr>\n    <tr>\n      <th>12</th>\n      <td>Antigua and Barbuda</td>\n    </tr>\n    <tr>\n      <th>13</th>\n      <td>Guadeloupe</td>\n    </tr>\n    <tr>\n      <th>14</th>\n      <td>R?union</td>\n    </tr>\n    <tr>\n      <th>15</th>\n      <td>Brunei Darussalam</td>\n    </tr>\n    <tr>\n      <th>16</th>\n      <td>Seychelles</td>\n    </tr>\n    <tr>\n      <th>17</th>\n      <td>French Guiana</td>\n    </tr>\n    <tr>\n      <th>18</th>\n      <td>Mayotte</td>\n    </tr>\n    <tr>\n      <th>19</th>\n      <td>Republic of Korea</td>\n    </tr>\n    <tr>\n      <th>20</th>\n      <td>Sao Tome and Principe</td>\n    </tr>\n    <tr>\n      <th>21</th>\n      <td>Bahamas</td>\n    </tr>\n  </tbody>\n</table>\n</div>"
     },
     "execution_count": 26,
     "metadata": {},
     "output_type": "execute_result"
    }
   ],
   "source": [
    "who_not_matched"
   ],
   "metadata": {
    "collapsed": false,
    "ExecuteTime": {
     "end_time": "2023-07-28T20:28:56.448882200Z",
     "start_time": "2023-07-28T20:28:56.433884400Z"
    }
   }
  },
  {
   "cell_type": "code",
   "execution_count": 27,
   "outputs": [],
   "source": [
    "# https://www.who.int/data/gho/data/countries\n",
    "\n",
    "WHO['Country Name'] = WHO['Country Name'].replace('T?rkiye', 'Turkiye')\n",
    "WHO['Country Name'] = WHO['Country Name'].replace('Republic of Korea', 'South Korea')\n",
    "WHO['Country Name'] = WHO['Country Name'].replace('Republic of Moldova', 'Moldova')\n",
    "WHO['Country Name'] = WHO['Country Name'].replace('R?union', 'France')\n",
    "WHO['Country Name'] = WHO['Country Name'].replace('French Guiana', 'France')\n",
    "WHO['Country Name'] = WHO['Country Name'].replace('Guadeloupe', 'France')\n",
    "WHO['Country Name'] = WHO['Country Name'].replace('Martinique', 'France')\n",
    "WHR['Country name'] = WHR['Country name'].replace('Hong Kong S.A.R. of China', 'China')\n",
    "WHR['Country name'] = WHR['Country name'].replace('Taiwan Province of China', 'China')\n",
    "WHR['Country name'] = WHR['Country name'].replace('Somalia', 'Somaliland region')\n",
    "\n",
    "# WHO['Country Name'] = WHO['Country Name'].replace('Puerto Rico', 'United States')"
   ],
   "metadata": {
    "collapsed": false,
    "ExecuteTime": {
     "end_time": "2023-07-28T20:28:56.631882300Z",
     "start_time": "2023-07-28T20:28:56.451883600Z"
    }
   }
  },
  {
   "cell_type": "code",
   "execution_count": 28,
   "outputs": [
    {
     "data": {
      "text/plain": "          Country Name\n0          Afghanistan\n1           Bangladesh\n2             Djibouti\n3              Bolivia\n4                Gabon\n..                 ...\n58        Burkina Faso\n59            Cambodia\n60          Mozambique\n61            Zimbabwe\n62  State of Palestine\n\n[63 rows x 1 columns]",
      "text/html": "<div>\n<style scoped>\n    .dataframe tbody tr th:only-of-type {\n        vertical-align: middle;\n    }\n\n    .dataframe tbody tr th {\n        vertical-align: top;\n    }\n\n    .dataframe thead th {\n        text-align: right;\n    }\n</style>\n<table border=\"1\" class=\"dataframe\">\n  <thead>\n    <tr style=\"text-align: right;\">\n      <th></th>\n      <th>Country Name</th>\n    </tr>\n  </thead>\n  <tbody>\n    <tr>\n      <th>0</th>\n      <td>Afghanistan</td>\n    </tr>\n    <tr>\n      <th>1</th>\n      <td>Bangladesh</td>\n    </tr>\n    <tr>\n      <th>2</th>\n      <td>Djibouti</td>\n    </tr>\n    <tr>\n      <th>3</th>\n      <td>Bolivia</td>\n    </tr>\n    <tr>\n      <th>4</th>\n      <td>Gabon</td>\n    </tr>\n    <tr>\n      <th>...</th>\n      <td>...</td>\n    </tr>\n    <tr>\n      <th>58</th>\n      <td>Burkina Faso</td>\n    </tr>\n    <tr>\n      <th>59</th>\n      <td>Cambodia</td>\n    </tr>\n    <tr>\n      <th>60</th>\n      <td>Mozambique</td>\n    </tr>\n    <tr>\n      <th>61</th>\n      <td>Zimbabwe</td>\n    </tr>\n    <tr>\n      <th>62</th>\n      <td>State of Palestine</td>\n    </tr>\n  </tbody>\n</table>\n<p>63 rows × 1 columns</p>\n</div>"
     },
     "execution_count": 28,
     "metadata": {},
     "output_type": "execute_result"
    }
   ],
   "source": [
    "whr_not_matched, who_not_matched = find_difference(WHR, WHO)\n",
    "whr_not_matched"
   ],
   "metadata": {
    "collapsed": false,
    "ExecuteTime": {
     "end_time": "2023-07-28T20:28:56.644881800Z",
     "start_time": "2023-07-28T20:28:56.588884800Z"
    }
   }
  },
  {
   "cell_type": "code",
   "execution_count": 29,
   "outputs": [
    {
     "data": {
      "text/plain": "                        Country Name\n0              Saint Kitts and Nevis\n1                        Saint Lucia\n2                         Seychelles\n3                        Puerto Rico\n4                            Mayotte\n5              Sao Tome and Principe\n6                            Grenada\n7                         Cabo Verde\n8                               Fiji\n9                           Dominica\n10                          Barbados\n11               Antigua and Barbuda\n12                           Bahamas\n13  Saint Vincent and the Grenadines\n14                 Brunei Darussalam",
      "text/html": "<div>\n<style scoped>\n    .dataframe tbody tr th:only-of-type {\n        vertical-align: middle;\n    }\n\n    .dataframe tbody tr th {\n        vertical-align: top;\n    }\n\n    .dataframe thead th {\n        text-align: right;\n    }\n</style>\n<table border=\"1\" class=\"dataframe\">\n  <thead>\n    <tr style=\"text-align: right;\">\n      <th></th>\n      <th>Country Name</th>\n    </tr>\n  </thead>\n  <tbody>\n    <tr>\n      <th>0</th>\n      <td>Saint Kitts and Nevis</td>\n    </tr>\n    <tr>\n      <th>1</th>\n      <td>Saint Lucia</td>\n    </tr>\n    <tr>\n      <th>2</th>\n      <td>Seychelles</td>\n    </tr>\n    <tr>\n      <th>3</th>\n      <td>Puerto Rico</td>\n    </tr>\n    <tr>\n      <th>4</th>\n      <td>Mayotte</td>\n    </tr>\n    <tr>\n      <th>5</th>\n      <td>Sao Tome and Principe</td>\n    </tr>\n    <tr>\n      <th>6</th>\n      <td>Grenada</td>\n    </tr>\n    <tr>\n      <th>7</th>\n      <td>Cabo Verde</td>\n    </tr>\n    <tr>\n      <th>8</th>\n      <td>Fiji</td>\n    </tr>\n    <tr>\n      <th>9</th>\n      <td>Dominica</td>\n    </tr>\n    <tr>\n      <th>10</th>\n      <td>Barbados</td>\n    </tr>\n    <tr>\n      <th>11</th>\n      <td>Antigua and Barbuda</td>\n    </tr>\n    <tr>\n      <th>12</th>\n      <td>Bahamas</td>\n    </tr>\n    <tr>\n      <th>13</th>\n      <td>Saint Vincent and the Grenadines</td>\n    </tr>\n    <tr>\n      <th>14</th>\n      <td>Brunei Darussalam</td>\n    </tr>\n  </tbody>\n</table>\n</div>"
     },
     "execution_count": 29,
     "metadata": {},
     "output_type": "execute_result"
    }
   ],
   "source": [
    "who_not_matched"
   ],
   "metadata": {
    "collapsed": false,
    "ExecuteTime": {
     "end_time": "2023-07-28T20:28:56.646881700Z",
     "start_time": "2023-07-28T20:28:56.631882300Z"
    }
   }
  },
  {
   "cell_type": "code",
   "execution_count": 30,
   "outputs": [],
   "source": [
    "# Save to csv\n",
    "WHR.to_csv('../Data/Clean/WHR2023-UpdatedNames.csv', index=False)\n",
    "WHO.to_csv('../Data/Clean/WHOMortalityData-UpdatedNames.csv', index=False)"
   ],
   "metadata": {
    "collapsed": false,
    "ExecuteTime": {
     "end_time": "2023-07-28T20:28:58.279881400Z",
     "start_time": "2023-07-28T20:28:56.636885300Z"
    }
   }
  }
 ],
 "metadata": {
  "kernelspec": {
   "display_name": "Python 3",
   "language": "python",
   "name": "python3"
  },
  "language_info": {
   "codemirror_mode": {
    "name": "ipython",
    "version": 2
   },
   "file_extension": ".py",
   "mimetype": "text/x-python",
   "name": "python",
   "nbconvert_exporter": "python",
   "pygments_lexer": "ipython2",
   "version": "2.7.6"
  }
 },
 "nbformat": 4,
 "nbformat_minor": 0
}
